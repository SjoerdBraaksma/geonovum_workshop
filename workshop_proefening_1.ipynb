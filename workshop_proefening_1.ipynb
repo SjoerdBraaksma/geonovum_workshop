{
 "cells": [
  {
   "cell_type": "markdown",
   "id": "643da097",
   "metadata": {},
   "source": [
    "# Proefening 1\n",
    "\n",
    "Welkom bij de Geonovum workshop! Dit is de eerste oefening.\n",
    "Als een reminder: Zorg dat je de volgende dingen hebt voorbereid:\n",
    "- Je hebt git geinstalleerd en de repository gecloned\n",
    "- Je hebt het install.sh script gerunned, en de conda environment geonovum_pointcloud geactiveerd in dit notebook\n",
    "- je hebt Cloudcompare, Qgis, of een andere tool om pointclouds te visualiseren geinstalleerd\n",
    "\n",
    "Zo ja, dan kunnen we aan de slag!"
   ]
  },
  {
   "cell_type": "markdown",
   "id": "8119be8b",
   "metadata": {},
   "source": [
    "### Package imports"
   ]
  },
  {
   "cell_type": "code",
   "execution_count": 7,
   "id": "8e195cac",
   "metadata": {},
   "outputs": [],
   "source": [
    "import laspy as lp\n",
    "import numpy as np\n",
    "import os"
   ]
  },
  {
   "cell_type": "markdown",
   "id": "49c97bdb",
   "metadata": {},
   "source": [
    "### Handige functies\n",
    "\n",
    "Onderstaande functies helpen ons in deze workshop. Bij elke functie zie je een korte beschrijving van wat hij doet."
   ]
  },
  {
   "cell_type": "code",
   "execution_count": 16,
   "id": "e5acb2c5",
   "metadata": {},
   "outputs": [],
   "source": [
    "def get_files_in_directory(directory: str):\n",
    "    \"\"\"\n",
    "    Get all files with a specific extension in a directory.\n",
    "    \"\"\"\n",
    "\n",
    "    files = [\n",
    "        os.path.join(directory, f) for f in os.listdir(directory) if f.endswith(\".las\")\n",
    "    ]\n",
    "    return files\n",
    "\n",
    "\n",
    "def lasdata_loader(filepaths: str | list, single_array: bool = True):\n",
    "    \"\"\"\n",
    "    Load one or multiple .las or .laz files.\n",
    "    Can return the data as a single numpy array (if single_array=True)\n",
    "    or as a list of numpy arrays (if single_array=False).\n",
    "    \"\"\"\n",
    "    if isinstance(filepaths, str):\n",
    "        filepaths = [filepaths]\n",
    "\n",
    "    all_points = []\n",
    "    for filepath in filepaths:\n",
    "        las = lp.read(filepath)\n",
    "        coords = np.vstack((las.points.x, las.points.y, las.points.z))\n",
    "        point_cloud = coords.transpose()\n",
    "        all_points.append(point_cloud)\n",
    "\n",
    "    if single_array:\n",
    "        all_points = np.concatenate(all_points)\n",
    "\n",
    "    return all_points"
   ]
  },
  {
   "cell_type": "markdown",
   "id": "a3508df7",
   "metadata": {},
   "source": [
    "### Stap 1: De las data laden"
   ]
  },
  {
   "cell_type": "code",
   "execution_count": null,
   "id": "db337ef2",
   "metadata": {},
   "outputs": [
    {
     "name": "stdout",
     "output_type": "stream",
     "text": [
      "['ahn/utrecht_subset/AHN5_C_125000_456000_5_5.las', 'ahn/utrecht_subset/AHN5_C_125000_456000_8_2.las', 'ahn/utrecht_subset/AHN5_C_125000_456000_9_2.las', 'ahn/utrecht_subset/AHN5_C_125000_456000_2_1.las', 'ahn/utrecht_subset/AHN5_C_125000_456000_6_2.las', 'ahn/utrecht_subset/AHN5_C_125000_456000_4_4.las', 'ahn/utrecht_subset/AHN5_C_125000_456000_3_9.las', 'ahn/utrecht_subset/AHN5_C_125000_456000_5_2.las', 'ahn/utrecht_subset/AHN5_C_125000_456000_0_6.las', 'ahn/utrecht_subset/AHN5_C_125000_456000_1_9.las', 'ahn/utrecht_subset/AHN5_C_125000_456000_2_3.las', 'ahn/utrecht_subset/AHN5_C_125000_456000_7_0.las', 'ahn/utrecht_subset/AHN5_C_125000_456000_1_5.las', 'ahn/utrecht_subset/AHN5_C_125000_456000_3_5.las', 'ahn/utrecht_subset/AHN5_C_125000_456000_4_2.las', 'ahn/utrecht_subset/AHN5_C_125000_456000_3_7.las', 'ahn/utrecht_subset/AHN5_C_125000_456000_5_7.las', 'ahn/utrecht_subset/AHN5_C_125000_456000_8_6.las', 'ahn/utrecht_subset/AHN5_C_125000_456000_2_6.las', 'ahn/utrecht_subset/AHN5_C_125000_456000_9_9.las', 'ahn/utrecht_subset/AHN5_C_125000_456000_0_9.las', 'ahn/utrecht_subset/AHN5_C_125000_456000_7_1.las', 'ahn/utrecht_subset/AHN5_C_125000_456000_2_8.las', 'ahn/utrecht_subset/AHN5_C_125000_456000_3_3.las', 'ahn/utrecht_subset/AHN5_C_125000_456000_3_0.las', 'ahn/utrecht_subset/AHN5_C_125000_456000_1_4.las', 'ahn/utrecht_subset/AHN5_C_125000_456000_1_0.las', 'ahn/utrecht_subset/AHN5_C_125000_456000_9_6.las', 'ahn/utrecht_subset/AHN5_C_125000_456000_6_3.las', 'ahn/utrecht_subset/AHN5_C_125000_456000_4_8.las', 'ahn/utrecht_subset/AHN5_C_125000_456000_5_1.las', 'ahn/utrecht_subset/AHN5_C_125000_456000_4_6.las', 'ahn/utrecht_subset/AHN5_C_125000_456000_2_2.las', 'ahn/utrecht_subset/AHN5_C_125000_456000_6_8.las', 'ahn/utrecht_subset/AHN5_C_125000_456000_8_3.las', 'ahn/utrecht_subset/AHN5_C_125000_456000_7_4.las', 'ahn/utrecht_subset/AHN5_C_125000_456000_4_3.las', 'ahn/utrecht_subset/AHN5_C_125000_456000_7_9.las', 'ahn/utrecht_subset/AHN5_C_125000_456000_7_6.las', 'ahn/utrecht_subset/AHN5_C_125000_456000_9_4.las', 'ahn/utrecht_subset/AHN5_C_125000_456000_6_6.las', 'ahn/utrecht_subset/AHN5_C_125000_456000_0_8.las', 'ahn/utrecht_subset/AHN5_C_125000_456000_6_4.las', 'ahn/utrecht_subset/AHN5_C_125000_456000_7_7.las', 'ahn/utrecht_subset/AHN5_C_125000_456000_0_3.las', 'ahn/utrecht_subset/AHN5_C_125000_456000_2_5.las', 'ahn/utrecht_subset/AHN5_C_125000_456000_3_2.las', 'ahn/utrecht_subset/AHN5_C_125000_456000_4_0.las', 'ahn/utrecht_subset/AHN5_C_125000_456000_9_0.las', 'ahn/utrecht_subset/AHN5_C_125000_456000_1_6.las', 'ahn/utrecht_subset/AHN5_C_125000_456000_2_0.las', 'ahn/utrecht_subset/AHN5_C_125000_456000_0_1.las', 'ahn/utrecht_subset/AHN5_C_125000_456000_9_8.las', 'ahn/utrecht_subset/AHN5_C_125000_456000_8_8.las', 'ahn/utrecht_subset/AHN5_C_125000_456000_5_4.las', 'ahn/utrecht_subset/AHN5_C_125000_456000_3_6.las', 'ahn/utrecht_subset/AHN5_C_125000_456000_6_0.las', 'ahn/utrecht_subset/AHN5_C_125000_456000_5_0.las', 'ahn/utrecht_subset/AHN5_C_125000_456000_1_8.las', 'ahn/utrecht_subset/AHN5_C_125000_456000_1_2.las', 'ahn/utrecht_subset/AHN5_C_125000_456000_3_1.las', 'ahn/utrecht_subset/AHN5_C_125000_456000_8_9.las', 'ahn/utrecht_subset/AHN5_C_125000_456000_2_4.las', 'ahn/utrecht_subset/AHN5_C_125000_456000_3_4.las', 'ahn/utrecht_subset/AHN5_C_125000_456000_7_8.las', 'ahn/utrecht_subset/AHN5_C_125000_456000_8_7.las', 'ahn/utrecht_subset/AHN5_C_125000_456000_6_5.las', 'ahn/utrecht_subset/AHN5_C_125000_456000_8_0.las', 'ahn/utrecht_subset/AHN5_C_125000_456000_5_9.las', 'ahn/utrecht_subset/AHN5_C_125000_456000_0_5.las', 'ahn/utrecht_subset/AHN5_C_125000_456000_9_7.las', 'ahn/utrecht_subset/AHN5_C_125000_456000_7_2.las', 'ahn/utrecht_subset/AHN5_C_125000_456000_2_7.las', 'ahn/utrecht_subset/AHN5_C_125000_456000_0_2.las', 'ahn/utrecht_subset/AHN5_C_125000_456000_5_6.las', 'ahn/utrecht_subset/AHN5_C_125000_456000_1_7.las', 'ahn/utrecht_subset/AHN5_C_125000_456000_9_5.las', 'ahn/utrecht_subset/AHN5_C_125000_456000_8_5.las', 'ahn/utrecht_subset/AHN5_C_125000_456000_8_1.las', 'ahn/utrecht_subset/AHN5_C_125000_456000_0_4.las', 'ahn/utrecht_subset/AHN5_C_125000_456000_4_7.las', 'ahn/utrecht_subset/AHN5_C_125000_456000_9_3.las', 'ahn/utrecht_subset/AHN5_C_125000_456000_0_0.las', 'ahn/utrecht_subset/AHN5_C_125000_456000_1_3.las', 'ahn/utrecht_subset/AHN5_C_125000_456000_5_8.las', 'ahn/utrecht_subset/AHN5_C_125000_456000_7_3.las', 'ahn/utrecht_subset/AHN5_C_125000_456000_2_9.las', 'ahn/utrecht_subset/AHN5_C_125000_456000_4_9.las', 'ahn/utrecht_subset/AHN5_C_125000_456000_3_8.las', 'ahn/utrecht_subset/AHN5_C_125000_456000_7_5.las', 'ahn/utrecht_subset/AHN5_C_125000_456000_6_7.las', 'ahn/utrecht_subset/AHN5_C_125000_456000_9_1.las', 'ahn/utrecht_subset/AHN5_C_125000_456000_4_5.las', 'ahn/utrecht_subset/AHN5_C_125000_456000_1_1.las', 'ahn/utrecht_subset/AHN5_C_125000_456000_4_1.las', 'ahn/utrecht_subset/AHN5_C_125000_456000_6_1.las', 'ahn/utrecht_subset/AHN5_C_125000_456000_5_3.las', 'ahn/utrecht_subset/AHN5_C_125000_456000_8_4.las', 'ahn/utrecht_subset/AHN5_C_125000_456000_6_9.las', 'ahn/utrecht_subset/AHN5_C_125000_456000_0_7.las']\n"
     ]
    }
   ],
   "source": [
    "data_folder = \"data/utrecht_subset\"  # Pad naar de folder met de las/laz files\n",
    "lasfiles = get_files_in_directory(data_folder)\n",
    "print(lasfiles)"
   ]
  },
  {
   "cell_type": "code",
   "execution_count": null,
   "id": "e550ef0e",
   "metadata": {},
   "outputs": [],
   "source": [
    "# We laden eerst 1 van de lasfiles in\n",
    "lasfile = lasdata_loader(lasfiles[0], single_array=True)"
   ]
  }
 ],
 "metadata": {
  "kernelspec": {
   "display_name": "geonovum_pointcloud",
   "language": "python",
   "name": "python3"
  },
  "language_info": {
   "codemirror_mode": {
    "name": "ipython",
    "version": 3
   },
   "file_extension": ".py",
   "mimetype": "text/x-python",
   "name": "python",
   "nbconvert_exporter": "python",
   "pygments_lexer": "ipython3",
   "version": "3.12.11"
  }
 },
 "nbformat": 4,
 "nbformat_minor": 5
}
