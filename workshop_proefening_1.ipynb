{
 "cells": [
  {
   "cell_type": "markdown",
   "id": "643da097",
   "metadata": {},
   "source": [
    "# Proefening 1\n",
    "\n",
    "Welkom bij de Geonovum workshop! Dit is de eerste oefening.\n",
    "Als een reminder: Zorg dat je de volgende dingen hebt voorbereid:\n",
    "- Je hebt git geinstalleerd en de repository gecloned\n",
    "- Je hebt het install.sh script gerunned, en de conda environment geonovum_pointcloud geactiveerd in dit notebook\n",
    "- je hebt Cloudcompare, Qgis, of een andere tool om pointclouds te visualiseren geinstalleerd\n",
    "\n",
    "Zo ja, dan kunnen we aan de slag!"
   ]
  },
  {
   "cell_type": "markdown",
   "id": "8119be8b",
   "metadata": {},
   "source": [
    "### Package imports"
   ]
  },
  {
   "cell_type": "code",
   "execution_count": 13,
   "id": "8e195cac",
   "metadata": {},
   "outputs": [],
   "source": [
    "import laspy as lp\n",
    "import numpy as np\n",
    "import open3d as o3d\n",
    "import os\n",
    "import yaml\n",
    "import logging\n",
    "from typing import Optional\n",
    "from pathlib import Path\n",
    "\n",
    "import matplotlib.pyplot as plt\n",
    "import matplotlib.colors as mcolors"
   ]
  },
  {
   "cell_type": "code",
   "execution_count": 14,
   "id": "f10a98d2",
   "metadata": {},
   "outputs": [],
   "source": [
    "### Load environment variables\n",
    "def load_yaml(path_to_yaml: str):\n",
    "    \"\"\"\n",
    "    Load yaml file\n",
    "    \"\"\"\n",
    "    with open(path_to_yaml, \"r\") as file:\n",
    "        return yaml.safe_load(file)\n",
    "\n",
    "\n",
    "env = load_yaml(\"env.yml\")\n",
    "data_folder = env[\"data_folder\"]\n",
    "output_folder = Path(data_folder) / \"output\"\n",
    "bbox = env[\"bbox\"]\n",
    "bgt_name = env[\"bgt_name\"]\n",
    "subset = env[\"subset\"]"
   ]
  },
  {
   "cell_type": "markdown",
   "id": "49c97bdb",
   "metadata": {},
   "source": [
    "### Handige functies\n",
    "\n",
    "Onderstaande functies helpen ons in deze workshop. Bij elke functie zie je een korte beschrijving van wat hij doet."
   ]
  },
  {
   "cell_type": "code",
   "execution_count": 15,
   "id": "e5acb2c5",
   "metadata": {},
   "outputs": [],
   "source": [
    "def get_files_in_directory(directory: str):\n",
    "    \"\"\"\n",
    "    Get all files with a specific extension in a directory.\n",
    "    \"\"\"\n",
    "\n",
    "    files = [\n",
    "        os.path.join(directory, f) for f in os.listdir(directory) if f.endswith(\".las\")\n",
    "    ]\n",
    "    return files\n",
    "\n",
    "\n",
    "def lasdata_loader(filepaths: str | list, single_array: bool = True):\n",
    "    \"\"\"\n",
    "    Load one or multiple .las or .laz files.\n",
    "    Can return the data as a single numpy array (if single_array=True)\n",
    "    or as a list of numpy arrays (if single_array=False).\n",
    "    \"\"\"\n",
    "    if isinstance(filepaths, str):\n",
    "        filepaths = [filepaths]\n",
    "\n",
    "    all_points = []\n",
    "    for filepath in filepaths:\n",
    "        las = lp.read(filepath)\n",
    "        coords = np.vstack((las.points.x, las.points.y, las.points.z))\n",
    "        point_cloud = coords.transpose()\n",
    "        all_points.append(point_cloud)\n",
    "\n",
    "    if single_array:\n",
    "        all_points = np.concatenate(all_points)\n",
    "\n",
    "    return all_points\n",
    "\n",
    "\n",
    "def to_las(\n",
    "    points: np.ndarray, colors: Optional[np.ndarray], extra_dim: Optional[dict]\n",
    ") -> lp.LasData | None:\n",
    "    \"\"\"\n",
    "    Converts data to laspy format.\n",
    "    Laspy RGB channels must be of 16-bit format 0-65535.\n",
    "    These default for the Pointcloud class is 0-255.\n",
    "    \"\"\"\n",
    "    header = lp.LasHeader(point_format=3, version=\"1.2\")\n",
    "\n",
    "    las = lp.LasData(header)\n",
    "    las.x = points[:, 0]\n",
    "    las.y = points[:, 1]\n",
    "    las.z = points[:, 2]\n",
    "\n",
    "    if colors is not None:\n",
    "        point_colors = colors.astype(np.uint16)\n",
    "        if points.shape[0] != point_colors.shape[0]:\n",
    "            logging.info(\"Points and color length are not equal.\")\n",
    "            return\n",
    "        las.red = point_colors[:, 0]\n",
    "        las.green = point_colors[:, 1]\n",
    "        las.blue = point_colors[:, 2]\n",
    "\n",
    "    if extra_dim is not None:\n",
    "        if not isinstance(extra_dim, dict):\n",
    "            logging.info(\n",
    "                \"extra_dim should be a dictionary with the dimname as key, and the value a N1 array or list of values\"\n",
    "            )\n",
    "            return\n",
    "\n",
    "        for key, value in extra_dim.items():\n",
    "            if points.shape[0] != value.shape[0]:\n",
    "                logging.info(\"Points and extra dimension length are not equal.\")\n",
    "                return\n",
    "\n",
    "            if key != \"classification\":\n",
    "                las.add_extra_dim(lp.ExtraBytesParams(name=key, type=\"uint32\"))\n",
    "                setattr(las, key, value)\n",
    "            else:\n",
    "                las.classification = value\n",
    "\n",
    "    return las\n",
    "\n",
    "\n",
    "### Kleuren voor open3D\n",
    "def generate_rgb_colors(n_colors):\n",
    "    \"\"\"\n",
    "    Genereer een set van N verschillende RGB kleuren\n",
    "    Returns: numpy array van shape (n_colors, 3) met RGB waarden tussen 0-255\n",
    "    \"\"\"\n",
    "    # Gebruik een colormap om goed onderscheidbare kleuren te krijgen\n",
    "    colormap = plt.colormaps[\"tab10\"]  # 'tab10', 'Set3', 'viridis', etc.\n",
    "\n",
    "    colors = []\n",
    "    for i in range(n_colors):\n",
    "        # Krijg kleur van colormap (waarden tussen 0-1)\n",
    "        rgba = colormap(i / max(1, n_colors - 1))\n",
    "        # Converteer naar RGB (0-255)\n",
    "        rgb = [int(rgba[j] * 255) for j in range(3)]\n",
    "        colors.append(rgb)\n",
    "\n",
    "    return np.array(colors)\n",
    "\n",
    "\n",
    "# Pas kleuren toe op punten gebaseerd op hun grid classificatie\n",
    "def apply_colors_to_points(points_with_grid, color_palette):\n",
    "    \"\"\"\n",
    "    Pas RGB kleuren toe op punten gebaseerd op hun grid classificatie\n",
    "\n",
    "    Args:\n",
    "        points_with_grid: numpy array met shape (n_points, 4) - X,Y,Z,grid_class\n",
    "        color_palette: numpy array met shape (n_colors, 3) - RGB kleuren\n",
    "\n",
    "    Returns:\n",
    "        numpy array met shape (n_points, 3) - RGB kleuren voor elk punt\n",
    "    \"\"\"\n",
    "    point_colors = np.zeros((len(points_with_grid), 3))\n",
    "\n",
    "    for i, point in enumerate(points_with_grid):\n",
    "        grid_class = int(point[3])  # Grid classificatie uit 4e kolom\n",
    "        point_colors[i] = color_palette[grid_class]\n",
    "\n",
    "    return point_colors.astype(np.uint8)"
   ]
  },
  {
   "cell_type": "markdown",
   "id": "a3508df7",
   "metadata": {},
   "source": [
    "### Stap 1: De las data laden"
   ]
  },
  {
   "cell_type": "code",
   "execution_count": 16,
   "id": "bbfb8453",
   "metadata": {},
   "outputs": [],
   "source": [
    "data_folder = \"data/utrecht_subset\"  # Pad naar de folder met de las/laz files\n",
    "output_folder = Path(data_folder) / \"output\"\n",
    "os.makedirs(output_folder, exist_ok=True)"
   ]
  },
  {
   "cell_type": "code",
   "execution_count": 17,
   "id": "db337ef2",
   "metadata": {},
   "outputs": [
    {
     "name": "stdout",
     "output_type": "stream",
     "text": [
      "['data/utrecht_subset/AHN5_C_125000_456000_5_5.las', 'data/utrecht_subset/AHN5_C_125000_456000_8_2.las', 'data/utrecht_subset/AHN5_C_125000_456000_9_2.las', 'data/utrecht_subset/AHN5_C_125000_456000_2_1.las', 'data/utrecht_subset/AHN5_C_125000_456000_6_2.las', 'data/utrecht_subset/AHN5_C_125000_456000_4_4.las', 'data/utrecht_subset/AHN5_C_125000_456000_3_9.las', 'data/utrecht_subset/AHN5_C_125000_456000_5_2.las', 'data/utrecht_subset/AHN5_C_125000_456000_0_6.las', 'data/utrecht_subset/AHN5_C_125000_456000_1_9.las', 'data/utrecht_subset/AHN5_C_125000_456000_2_3.las', 'data/utrecht_subset/AHN5_C_125000_456000_7_0.las', 'data/utrecht_subset/AHN5_C_125000_456000_1_5.las', 'data/utrecht_subset/AHN5_C_125000_456000_3_5.las', 'data/utrecht_subset/AHN5_C_125000_456000_4_2.las', 'data/utrecht_subset/AHN5_C_125000_456000_3_7.las', 'data/utrecht_subset/AHN5_C_125000_456000_5_7.las', 'data/utrecht_subset/AHN5_C_125000_456000_8_6.las', 'data/utrecht_subset/AHN5_C_125000_456000_2_6.las', 'data/utrecht_subset/AHN5_C_125000_456000_9_9.las', 'data/utrecht_subset/AHN5_C_125000_456000_0_9.las', 'data/utrecht_subset/AHN5_C_125000_456000_7_1.las', 'data/utrecht_subset/AHN5_C_125000_456000_2_8.las', 'data/utrecht_subset/AHN5_C_125000_456000_3_3.las', 'data/utrecht_subset/AHN5_C_125000_456000_3_0.las', 'data/utrecht_subset/AHN5_C_125000_456000_1_4.las', 'data/utrecht_subset/AHN5_C_125000_456000_1_0.las', 'data/utrecht_subset/AHN5_C_125000_456000_9_6.las', 'data/utrecht_subset/AHN5_C_125000_456000_6_3.las', 'data/utrecht_subset/AHN5_C_125000_456000_4_8.las', 'data/utrecht_subset/AHN5_C_125000_456000_5_1.las', 'data/utrecht_subset/AHN5_C_125000_456000_4_6.las', 'data/utrecht_subset/AHN5_C_125000_456000_2_2.las', 'data/utrecht_subset/AHN5_C_125000_456000_6_8.las', 'data/utrecht_subset/AHN5_C_125000_456000_8_3.las', 'data/utrecht_subset/AHN5_C_125000_456000_7_4.las', 'data/utrecht_subset/AHN5_C_125000_456000_4_3.las', 'data/utrecht_subset/AHN5_C_125000_456000_7_9.las', 'data/utrecht_subset/AHN5_C_125000_456000_7_6.las', 'data/utrecht_subset/AHN5_C_125000_456000_9_4.las', 'data/utrecht_subset/AHN5_C_125000_456000_6_6.las', 'data/utrecht_subset/AHN5_C_125000_456000_0_8.las', 'data/utrecht_subset/AHN5_C_125000_456000_6_4.las', 'data/utrecht_subset/AHN5_C_125000_456000_7_7.las', 'data/utrecht_subset/AHN5_C_125000_456000_0_3.las', 'data/utrecht_subset/AHN5_C_125000_456000_2_5.las', 'data/utrecht_subset/AHN5_C_125000_456000_3_2.las', 'data/utrecht_subset/AHN5_C_125000_456000_4_0.las', 'data/utrecht_subset/AHN5_C_125000_456000_9_0.las', 'data/utrecht_subset/AHN5_C_125000_456000_1_6.las', 'data/utrecht_subset/AHN5_C_125000_456000_2_0.las', 'data/utrecht_subset/AHN5_C_125000_456000_0_1.las', 'data/utrecht_subset/AHN5_C_125000_456000_9_8.las', 'data/utrecht_subset/AHN5_C_125000_456000_8_8.las', 'data/utrecht_subset/AHN5_C_125000_456000_5_4.las', 'data/utrecht_subset/AHN5_C_125000_456000_3_6.las', 'data/utrecht_subset/AHN5_C_125000_456000_6_0.las', 'data/utrecht_subset/AHN5_C_125000_456000_5_0.las', 'data/utrecht_subset/AHN5_C_125000_456000_1_8.las', 'data/utrecht_subset/AHN5_C_125000_456000_1_2.las', 'data/utrecht_subset/AHN5_C_125000_456000_3_1.las', 'data/utrecht_subset/AHN5_C_125000_456000_8_9.las', 'data/utrecht_subset/AHN5_C_125000_456000_2_4.las', 'data/utrecht_subset/AHN5_C_125000_456000_3_4.las', 'data/utrecht_subset/AHN5_C_125000_456000_7_8.las', 'data/utrecht_subset/AHN5_C_125000_456000_8_7.las', 'data/utrecht_subset/AHN5_C_125000_456000_6_5.las', 'data/utrecht_subset/AHN5_C_125000_456000_8_0.las', 'data/utrecht_subset/AHN5_C_125000_456000_5_9.las', 'data/utrecht_subset/AHN5_C_125000_456000_0_5.las', 'data/utrecht_subset/AHN5_C_125000_456000_9_7.las', 'data/utrecht_subset/AHN5_C_125000_456000_7_2.las', 'data/utrecht_subset/AHN5_C_125000_456000_2_7.las', 'data/utrecht_subset/AHN5_C_125000_456000_0_2.las', 'data/utrecht_subset/AHN5_C_125000_456000_5_6.las', 'data/utrecht_subset/AHN5_C_125000_456000_1_7.las', 'data/utrecht_subset/AHN5_C_125000_456000_9_5.las', 'data/utrecht_subset/AHN5_C_125000_456000_8_5.las', 'data/utrecht_subset/AHN5_C_125000_456000_8_1.las', 'data/utrecht_subset/AHN5_C_125000_456000_0_4.las', 'data/utrecht_subset/AHN5_C_125000_456000_4_7.las', 'data/utrecht_subset/AHN5_C_125000_456000_9_3.las', 'data/utrecht_subset/AHN5_C_125000_456000_0_0.las', 'data/utrecht_subset/AHN5_C_125000_456000_1_3.las', 'data/utrecht_subset/AHN5_C_125000_456000_5_8.las', 'data/utrecht_subset/AHN5_C_125000_456000_7_3.las', 'data/utrecht_subset/AHN5_C_125000_456000_2_9.las', 'data/utrecht_subset/AHN5_C_125000_456000_4_9.las', 'data/utrecht_subset/AHN5_C_125000_456000_3_8.las', 'data/utrecht_subset/AHN5_C_125000_456000_7_5.las', 'data/utrecht_subset/AHN5_C_125000_456000_6_7.las', 'data/utrecht_subset/AHN5_C_125000_456000_9_1.las', 'data/utrecht_subset/AHN5_C_125000_456000_4_5.las', 'data/utrecht_subset/AHN5_C_125000_456000_1_1.las', 'data/utrecht_subset/AHN5_C_125000_456000_4_1.las', 'data/utrecht_subset/AHN5_C_125000_456000_6_1.las', 'data/utrecht_subset/AHN5_C_125000_456000_5_3.las', 'data/utrecht_subset/AHN5_C_125000_456000_8_4.las', 'data/utrecht_subset/AHN5_C_125000_456000_6_9.las', 'data/utrecht_subset/AHN5_C_125000_456000_0_7.las']\n"
     ]
    },
    {
     "data": {
      "text/plain": [
       "'data/utrecht_subset/AHN5_C_125000_456000_5_5.las'"
      ]
     },
     "execution_count": 17,
     "metadata": {},
     "output_type": "execute_result"
    }
   ],
   "source": [
    "lasfiles = get_files_in_directory(data_folder)\n",
    "print(lasfiles)\n",
    "\n",
    "lasfile_path = [\n",
    "    filepath\n",
    "    for filepath in lasfiles\n",
    "    if filepath\n",
    "    == f\"data/utrecht_subset/AHN5_C_{int(bbox[0])}_{int(bbox[1])}_{subset[0]}_{subset[1]}.las\"\n",
    "][0]\n",
    "\n",
    "lasfile_path"
   ]
  },
  {
   "cell_type": "code",
   "execution_count": 18,
   "id": "e550ef0e",
   "metadata": {},
   "outputs": [],
   "source": [
    "lasfile = lasdata_loader(lasfile_path, single_array=True)"
   ]
  },
  {
   "cell_type": "markdown",
   "id": "651e4718",
   "metadata": {},
   "source": [
    "De lasfile is nu geladen als een numpy array. Een matrix met de kolommen X,Y,Z en elke rij 1 punt.\n",
    "je kan dit array ook filteren op index. Zie: https://numpy.org/doc/stable/user/basics.indexing.html\n",
    "Python begint met tellen bij 0. Het derde punt in de lasfile krijg je daarom door:\n",
    "```\n",
    "lasfile[2, :]\n",
    "```\n",
    "\n",
    "Wil je alle Y-coordinaten? dan gebruik je:\n",
    "```\n",
    "lasfile[:, 1]\n",
    "```\n",
    "\n",
    "Beantwoord de volgende vragen:"
   ]
  },
  {
   "cell_type": "code",
   "execution_count": 37,
   "id": "f2ae5ade",
   "metadata": {},
   "outputs": [
    {
     "data": {
      "text/plain": [
       "363668"
      ]
     },
     "execution_count": 37,
     "metadata": {},
     "output_type": "execute_result"
    }
   ],
   "source": [
    "# Vraag 1: hoeveel punten zitten er in deze lasfile? (antwoord: 1 regel code)\n",
    "len(lasfile)"
   ]
  },
  {
   "cell_type": "code",
   "execution_count": 38,
   "id": "9b410969",
   "metadata": {},
   "outputs": [
    {
     "data": {
      "text/plain": [
       "(363668, 3)"
      ]
     },
     "execution_count": 38,
     "metadata": {},
     "output_type": "execute_result"
    }
   ],
   "source": [
    "# vraag 2: Hoeveel dimensies heeft deze lasfile? Deze vraag kan je beantwoorden zonder code.\n",
    "lasfile.shape"
   ]
  },
  {
   "cell_type": "code",
   "execution_count": 39,
   "id": "9c8c155e",
   "metadata": {},
   "outputs": [
    {
     "data": {
      "text/plain": [
       "array([ 1.25502578e+05,  4.56597670e+05, -1.25000000e-01])"
      ]
     },
     "execution_count": 39,
     "metadata": {},
     "output_type": "execute_result"
    }
   ],
   "source": [
    "# Vraag 3: wat is de x,y,z coordinaten van het 10e punt in deze lasfile? (antwoord: 1 regel code)\n",
    "lasfile[9, :]"
   ]
  },
  {
   "cell_type": "markdown",
   "id": "e7f45d19",
   "metadata": {},
   "source": [
    "Daarnaast kan je ook dingen als min, max en gemiddelde berekenen van een subselectie. Probeer zelf erachter te komen hoe je dit doet! Beantwoord daarbij de volgende vragen:"
   ]
  },
  {
   "cell_type": "code",
   "execution_count": 40,
   "id": "ff55a311",
   "metadata": {},
   "outputs": [
    {
     "data": {
      "text/plain": [
       "np.float64(0.24662079149114033)"
      ]
     },
     "execution_count": 40,
     "metadata": {},
     "output_type": "execute_result"
    }
   ],
   "source": [
    "# Vraag 4: Wat is de gemiddelde hoogte (z) van alle punten in deze lasfile? (antwoord: 1 regel code)\n",
    "lasfile[:, 2].mean()"
   ]
  },
  {
   "cell_type": "code",
   "execution_count": 41,
   "id": "7c7ab817",
   "metadata": {},
   "outputs": [
    {
     "data": {
      "text/plain": [
       "(np.float64(125500.0), np.float64(125599.999))"
      ]
     },
     "execution_count": 41,
     "metadata": {},
     "output_type": "execute_result"
    }
   ],
   "source": [
    "# Vraag 5: Wat is de min en max X-waarde van alle punten in deze lasfile? (antwoord: 1 regel code)\n",
    "lasfile[:, 0].min(), lasfile[:, 0].max()"
   ]
  },
  {
   "cell_type": "code",
   "execution_count": 42,
   "id": "d82fcb47",
   "metadata": {},
   "outputs": [
    {
     "data": {
      "text/plain": [
       "(np.float64(456500.0), np.float64(456599.999))"
      ]
     },
     "execution_count": 42,
     "metadata": {},
     "output_type": "execute_result"
    }
   ],
   "source": [
    "# Vraag 6: Wat is de min en max Y-waarde van alle punten in deze lasfile? (antwoord: 1 regel code)\n",
    "lasfile[:, 1].min(), lasfile[:, 1].max()"
   ]
  },
  {
   "cell_type": "code",
   "execution_count": 43,
   "id": "90b971bc",
   "metadata": {},
   "outputs": [],
   "source": [
    "# Waarom had je deze X en Y waarden al kunnen verwachten zonder code?"
   ]
  },
  {
   "cell_type": "markdown",
   "id": "6dd68fe7",
   "metadata": {},
   "source": [
    "Nu willen we de puntenwolk gaan \"ophakken\" in nog kleinere subsets. Vervolgens classificeren we alle punten die in een subset vallen ans behorend bij die subset.\n",
    "Laten we de puntenwolk ophakken in een 3x3 matrix."
   ]
  },
  {
   "cell_type": "code",
   "execution_count": 44,
   "id": "eb34724e",
   "metadata": {},
   "outputs": [],
   "source": [
    "# Maak een kopie van de originele array en voeg een 4e kolom toe. Deze vullen we met 0-en.\n",
    "lasfile_with_grid = np.zeros((len(lasfile), 4))\n",
    "lasfile_with_grid[:, :3] = lasfile  # Kopieer X, Y, Z coordinaten"
   ]
  },
  {
   "cell_type": "code",
   "execution_count": 45,
   "id": "4ba67bba",
   "metadata": {},
   "outputs": [
    {
     "name": "stdout",
     "output_type": "stream",
     "text": [
      "X range: 125500.00 to 125600.00\n",
      "Y range: 456500.00 to 456600.00\n"
     ]
    }
   ],
   "source": [
    "# Bereken de bounding box van de point cloud\n",
    "x_min, x_max = lasfile_with_grid[:, 0].min(), lasfile_with_grid[:, 0].max()\n",
    "y_min, y_max = lasfile_with_grid[:, 1].min(), lasfile_with_grid[:, 1].max()\n",
    "print(f\"X range: {x_min:.2f} to {x_max:.2f}\")\n",
    "print(f\"Y range: {y_min:.2f} to {y_max:.2f}\")"
   ]
  },
  {
   "cell_type": "code",
   "execution_count": 46,
   "id": "6114c658",
   "metadata": {},
   "outputs": [
    {
     "name": "stdout",
     "output_type": "stream",
     "text": [
      "Cell grootte: 33.33 x 33.33\n"
     ]
    }
   ],
   "source": [
    "# Bereken de cell grootte voor de 3x3 matrix\n",
    "grid_size = 3\n",
    "x_step = (x_max - x_min) / grid_size\n",
    "y_step = (y_max - y_min) / grid_size\n",
    "\n",
    "print(f\"Cell grootte: {x_step:.2f} x {y_step:.2f}\")"
   ]
  },
  {
   "cell_type": "code",
   "execution_count": 47,
   "id": "2e743725",
   "metadata": {},
   "outputs": [
    {
     "name": "stdout",
     "output_type": "stream",
     "text": [
      "Grid cell statistics:\n",
      "Cell 6: 27118 points\n",
      "Cell 7: 38461 points\n",
      "Cell 3: 28551 points\n",
      "Cell 0: 39287 points\n",
      "Cell 4: 47537 points\n",
      "Cell 1: 51500 points\n",
      "Cell 5: 42380 points\n",
      "Cell 8: 47320 points\n",
      "Cell 2: 41514 points\n",
      "\n",
      "Total points distributed: 363668\n",
      "Original point count: 363668\n"
     ]
    }
   ],
   "source": [
    "# Create a dictionary to store points for each grid cell\n",
    "grid_cells = {}\n",
    "\n",
    "# Per punt de grid cell assignment:\n",
    "for i, point in enumerate(lasfile_with_grid):\n",
    "    x, y, z = point[:3]\n",
    "\n",
    "    # Bereken welk grid cell het punt in valt\n",
    "    grid_x = int((x - x_min) / x_step)\n",
    "    grid_y = int((y - y_min) / y_step)\n",
    "\n",
    "    # Edge cases die precies op de grens vallen\n",
    "    if grid_x == grid_size:\n",
    "        grid_x = grid_size - 1\n",
    "    if grid_y == grid_size:\n",
    "        grid_y = grid_size - 1\n",
    "\n",
    "    # Converteer grid coordinaten naar een enkele classificatie waarde (0-8)\n",
    "    # Grid layout: 0 1 2\n",
    "    #              3 4 5\n",
    "    #              6 7 8\n",
    "    grid_classification = grid_y * grid_size + grid_x\n",
    "\n",
    "    # Voeg de grid classificatie toe als 4e dimensie\n",
    "    lasfile_with_grid[i, 3] = grid_classification\n",
    "\n",
    "    # Voeg het punt toe aan de dictionary\n",
    "    if grid_classification not in grid_cells:\n",
    "        grid_cells[grid_classification] = []\n",
    "    grid_cells[grid_classification].append(point)\n",
    "\n",
    "# Print statistics for each grid cell\n",
    "print(\"Grid cell statistics:\")\n",
    "for cell_key in grid_cells.keys():\n",
    "    if cell_key in grid_cells:\n",
    "        point_count = len(grid_cells[cell_key])\n",
    "        print(f\"Cell {cell_key}: {point_count} points\")\n",
    "    else:\n",
    "        print(f\"Cell ({cell_key}): 0 points\")\n",
    "\n",
    "print(\n",
    "    f\"\\nTotal points distributed: {sum(len(points) for points in grid_cells.values())}\"\n",
    ")\n",
    "print(f\"Original point count: {len(lasfile)}\")"
   ]
  },
  {
   "cell_type": "code",
   "execution_count": 48,
   "id": "2d369367",
   "metadata": {},
   "outputs": [
    {
     "data": {
      "text/plain": [
       "array([[ 1.25501602e+05,  4.56593789e+05, -3.90000000e-02,\n",
       "         6.00000000e+00],\n",
       "       [ 1.25501393e+05,  4.56594134e+05,  1.11000000e-01,\n",
       "         6.00000000e+00],\n",
       "       [ 1.25500738e+05,  4.56596006e+05, -7.90000000e-02,\n",
       "         6.00000000e+00],\n",
       "       [ 1.25501951e+05,  4.56594276e+05,  1.73800000e+00,\n",
       "         6.00000000e+00]])"
      ]
     },
     "execution_count": 48,
     "metadata": {},
     "output_type": "execute_result"
    }
   ],
   "source": [
    "lasfile_with_grid[:4]"
   ]
  },
  {
   "cell_type": "code",
   "execution_count": 49,
   "id": "db71598b",
   "metadata": {},
   "outputs": [
    {
     "name": "stdout",
     "output_type": "stream",
     "text": [
      "Nieuwe array shape: (363668, 4)\n",
      "Eerste 10 punten met grid classificatie:\n",
      "X\t\tY\t\tZ\t\tGrid\n",
      "125501.60\t\t456593.79\t\t-0.04\t\t6\n",
      "125501.39\t\t456594.13\t\t0.11\t\t6\n",
      "125500.74\t\t456596.01\t\t-0.08\t\t6\n",
      "125501.95\t\t456594.28\t\t1.74\t\t6\n",
      "125502.26\t\t456595.29\t\t-0.13\t\t6\n",
      "125501.05\t\t456598.28\t\t-0.07\t\t6\n",
      "125500.90\t\t456598.65\t\t-0.09\t\t6\n",
      "125501.66\t\t456599.10\t\t0.01\t\t6\n",
      "125501.38\t\t456599.88\t\t-0.03\t\t6\n",
      "125502.58\t\t456597.67\t\t-0.12\t\t6\n",
      "\n",
      "Punten per grid classificatie:\n",
      "Grid 0 (cel 0,0): 39287 punten\n",
      "Grid 1 (cel 1,0): 51500 punten\n",
      "Grid 2 (cel 2,0): 41514 punten\n",
      "Grid 3 (cel 0,1): 28551 punten\n",
      "Grid 4 (cel 1,1): 47537 punten\n",
      "Grid 5 (cel 2,1): 42380 punten\n",
      "Grid 6 (cel 0,2): 27118 punten\n",
      "Grid 7 (cel 1,2): 38461 punten\n",
      "Grid 8 (cel 2,2): 47320 punten\n"
     ]
    }
   ],
   "source": [
    "# Creëer een nieuwe numpy array met 4 dimensies: X, Y, Z, en grid classificatie\n",
    "# De grid classificatie is een getal van 0-8 (voor een 3x3 grid)\n",
    "\n",
    "# Maak een kopie van de originele array en voeg een 4e kolom toe\n",
    "lasfile_with_grid = np.zeros((len(lasfile), 4))\n",
    "lasfile_with_grid[:, :3] = lasfile  # Kopieer X, Y, Z coordinaten\n",
    "\n",
    "# Voeg grid classificaties toe voor elk punt\n",
    "for i, point in enumerate(lasfile):\n",
    "    x, y, z = point\n",
    "\n",
    "    # Bereken welke grid cell dit punt hoort\n",
    "    grid_x = int((x - x_min) / x_step)\n",
    "    grid_y = int((y - y_min) / y_step)\n",
    "\n",
    "    # Handle edge case where point is exactly on the boundary\n",
    "    if grid_x == grid_size:\n",
    "        grid_x = grid_size - 1\n",
    "    if grid_y == grid_size:\n",
    "        grid_y = grid_size - 1\n",
    "\n",
    "    # Converteer grid coordinaten naar een enkele classificatie waarde (0-8)\n",
    "    # Grid layout: 0 1 2\n",
    "    #              3 4 5\n",
    "    #              6 7 8\n",
    "    grid_classification = grid_y * grid_size + grid_x\n",
    "\n",
    "    # Voeg de grid classificatie toe als 4e dimensie\n",
    "    lasfile_with_grid[i, 3] = grid_classification\n",
    "\n",
    "print(\"Nieuwe array shape:\", lasfile_with_grid.shape)\n",
    "print(\"Eerste 10 punten met grid classificatie:\")\n",
    "print(\"X\\t\\tY\\t\\tZ\\t\\tGrid\")\n",
    "for i in range(10):\n",
    "    x, y, z, grid_class = lasfile_with_grid[i]\n",
    "    print(f\"{x:.2f}\\t\\t{y:.2f}\\t\\t{z:.2f}\\t\\t{int(grid_class)}\")\n",
    "\n",
    "# Toon hoeveel punten er in elke grid classificatie zitten\n",
    "print(\"\\nPunten per grid classificatie:\")\n",
    "unique_grids, counts = np.unique(lasfile_with_grid[:, 3], return_counts=True)\n",
    "for grid_id, count in zip(unique_grids, counts):\n",
    "    grid_x = int(grid_id) % grid_size\n",
    "    grid_y = int(grid_id) // grid_size\n",
    "    print(f\"Grid {int(grid_id)} (cel {grid_x},{grid_y}): {count} punten\")"
   ]
  },
  {
   "cell_type": "markdown",
   "id": "fb50a8bd",
   "metadata": {},
   "source": [
    "Jammer genoeg biedt laspy geen mogelijkheid om pointclouds te visualiseren. Gelukkig kunnen we hier een ander package voor gebruiken die veel wordt gebruikt voor pointclouds en 3D modellen: open3D!\n",
    "\n",
    "Naast visualiseren biedt dit package nog veel meer geavanceerde mogelijkheden voor 3D data in het algemeen. Lees meer op: https://www.open3d.org/docs/latest/introduction.html"
   ]
  },
  {
   "cell_type": "code",
   "execution_count": 50,
   "id": "2d83d950",
   "metadata": {},
   "outputs": [],
   "source": [
    "# Genereer kleuren voor onze 9 grid cellen (0-8)\n",
    "n_grid_cells = len(grid_cells)\n",
    "grid_colors = generate_rgb_colors(n_grid_cells)"
   ]
  },
  {
   "cell_type": "code",
   "execution_count": 51,
   "id": "d6870ba7",
   "metadata": {},
   "outputs": [],
   "source": [
    "# Pas kleuren toe op onze punten\n",
    "point_colors = apply_colors_to_points(lasfile_with_grid, grid_colors)\n",
    "\n",
    "\n",
    "# Normaliseer kleuren naar 0-1 range voor Open3D\n",
    "colors_normalized = point_colors.astype(np.float64) / 255.0"
   ]
  },
  {
   "cell_type": "code",
   "execution_count": 52,
   "id": "09fcea18",
   "metadata": {},
   "outputs": [],
   "source": [
    "# Maak Open3D point cloud object\n",
    "colored_geom = o3d.geometry.PointCloud()\n",
    "colored_geom.points = o3d.utility.Vector3dVector(lasfile_with_grid[:, :3])\n",
    "colored_geom.colors = o3d.utility.Vector3dVector(colors_normalized)"
   ]
  },
  {
   "cell_type": "code",
   "execution_count": 53,
   "id": "0e20275d",
   "metadata": {},
   "outputs": [
    {
     "name": "stdout",
     "output_type": "stream",
     "text": [
      "Visualisatie van de gekleurde point cloud wordt geopend...\n",
      "Elke kleur representeert een andere grid cel\n"
     ]
    }
   ],
   "source": [
    "# Visualiseer\n",
    "print(\"Visualisatie van de gekleurde point cloud wordt geopend...\")\n",
    "print(\"Elke kleur representeert een andere grid cel\")\n",
    "o3d.visualization.draw_geometries([colored_geom])"
   ]
  },
  {
   "cell_type": "markdown",
   "id": "48aafc91",
   "metadata": {},
   "source": [
    "Als we de classificatie buiten python willen bekijken, kunnen we deze het beste opslaan als nieuwe las file. We moeten het numpy array weer terugveranderen in een las dataset zodat laspy deze kan opslaan. Door het numpy array om te zetten in lasdata zorgen we dat deze voldoet aan de specificaties voor lasdata (zoals een header met de juiste informatie)."
   ]
  },
  {
   "cell_type": "code",
   "execution_count": 46,
   "id": "4ddb4e66",
   "metadata": {},
   "outputs": [],
   "source": [
    "las_classified = to_las(\n",
    "    points=lasfile_with_grid[:, 0:3],\n",
    "    colors=None,\n",
    "    extra_dim={\"grid_classification\": lasfile_with_grid[:, 3].astype(\"uint32\")},\n",
    ")"
   ]
  },
  {
   "cell_type": "code",
   "execution_count": 59,
   "id": "19f6e66d",
   "metadata": {},
   "outputs": [],
   "source": [
    "las_path = output_folder / Path(Path(lasfile_path).stem + \"_grid_classification.las\")\n",
    "las_classified.write(las_path)"
   ]
  }
 ],
 "metadata": {
  "kernelspec": {
   "display_name": "geonovum_pointcloud",
   "language": "python",
   "name": "python3"
  },
  "language_info": {
   "codemirror_mode": {
    "name": "ipython",
    "version": 3
   },
   "file_extension": ".py",
   "mimetype": "text/x-python",
   "name": "python",
   "nbconvert_exporter": "python",
   "pygments_lexer": "ipython3",
   "version": "3.12.11"
  }
 },
 "nbformat": 4,
 "nbformat_minor": 5
}
